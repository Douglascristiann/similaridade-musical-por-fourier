{
 "cells": [
  {
   "cell_type": "code",
   "execution_count": null,
   "metadata": {},
   "outputs": [],
   "source": [
    "import subprocess\n",
    "import sys\n",
    "import os\n",
    "import importlib.util"
   ]
  },
  {
   "cell_type": "code",
   "execution_count": null,
   "metadata": {},
   "outputs": [],
   "source": [
    "def instalar_requisitos():\n",
    "    try:\n",
    "        print(\"[INFO] Instalando pacotes do requirements.txt...\")\n",
    "        subprocess.check_call([sys.executable, \"-m\", \"pip\", \"install\", \"-r\", \"requirements.txt\"])\n",
    "        print(\"[OK] Pacotes instalados com sucesso.\")\n",
    "    except subprocess.CalledProcessError as e:\n",
    "        print(f\"[ERRO] Falha ao instalar pacotes: {e}\")\n",
    "        sys.exit(1)\n",
    "\n",
    "def executar_testes():\n",
    "    print(\"[INFO] Executando testes unitários...\")\n",
    "    resultado = subprocess.run([sys.executable, \"teste_unitario.py\"], capture_output=True, text=True)\n",
    "    \n",
    "    print(resultado.stdout)\n",
    "    if resultado.returncode != 0:\n",
    "        print(\"[FALHA] Testes unitários falharam.\")\n",
    "        print(resultado.stderr)\n",
    "        sys.exit(1)\n",
    "    else:\n",
    "        print(\"[SUCESSO] Todos os testes passaram!\")\n",
    "\n",
    "def executar_extrator():\n",
    "    caminho_script = os.path.join(\"processamento\", \"extrator_fft.py\")\n",
    "    print(f\"[INFO] Executando: {caminho_script}\")\n",
    "    \n",
    "    if not os.path.exists(caminho_script):\n",
    "        print(f\"[ERRO] Arquivo não encontrado: {caminho_script}\")\n",
    "        sys.exit(1)\n",
    "    \n",
    "    subprocess.run([sys.executable, caminho_script])\n",
    "\n",
    "if __name__ == \"__main__\":\n",
    "    instalar_requisitos()\n",
    "    executar_testes()\n",
    "    executar_extrator()\n"
   ]
  }
 ],
 "metadata": {
  "kernelspec": {
   "display_name": ".venv",
   "language": "python",
   "name": "python3"
  },
  "language_info": {
   "name": "python",
   "version": "3.11.9"
  }
 },
 "nbformat": 4,
 "nbformat_minor": 2
}
